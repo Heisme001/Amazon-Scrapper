{
 "cells": [
  {
   "cell_type": "code",
   "execution_count": 11,
   "id": "4d0f6633-1658-4608-8059-76af8eb326e9",
   "metadata": {},
   "outputs": [],
   "source": [
    "import csv"
   ]
  },
  {
   "cell_type": "code",
   "execution_count": 12,
   "id": "582fa058-ccf3-43d8-a041-3a263e921664",
   "metadata": {},
   "outputs": [],
   "source": [
    "from bs4 import BeautifulSoup"
   ]
  },
  {
   "cell_type": "code",
   "execution_count": 13,
   "id": "634c04ae-a5da-4458-a307-689ff3cd0d87",
   "metadata": {},
   "outputs": [],
   "source": [
    "from selenium import webdriver"
   ]
  },
  {
   "cell_type": "code",
   "execution_count": 27,
   "id": "44e27f26-c454-49d3-8e4f-1eb8ad919c77",
   "metadata": {},
   "outputs": [],
   "source": [
    "driver=webdriver.Chrome()"
   ]
  },
  {
   "cell_type": "code",
   "execution_count": 33,
   "id": "5cdb72c4-421f-43ba-8d39-8d171aab87f1",
   "metadata": {},
   "outputs": [],
   "source": [
    "url='https://www.amazon.com'\n",
    "driver.get(url)"
   ]
  },
  {
   "cell_type": "code",
   "execution_count": 34,
   "id": "84c287f2-893f-46b1-a2bf-628bea4c38c0",
   "metadata": {},
   "outputs": [],
   "source": [
    "def get_url(search_term):\n",
    "    \"\"\"Generate a url from search term\"\"\"\n",
    "    template='https://www.amazon.com/s?k={}&crid=B2WBC3NPMZBK&sprefix=tv%2Caps%2C1912&ref=nb_sb_noss_1'\n",
    "    search_term=search_term.replace('','+')\n",
    "    return template.format(search_term)"
   ]
  },
  {
   "cell_type": "code",
   "execution_count": 40,
   "id": "28df56d5-027d-4abd-9a44-b3baf4893bca",
   "metadata": {
    "scrolled": true
   },
   "outputs": [
    {
     "name": "stdout",
     "output_type": "stream",
     "text": [
      "https://www.amazon.com/s?k=+T+V+&crid=B2WBC3NPMZBK&sprefix=tv%2Caps%2C1912&ref=nb_sb_noss_1\n"
     ]
    }
   ],
   "source": [
    "url=get_url('TV')\n",
    "print(url)"
   ]
  },
  {
   "cell_type": "code",
   "execution_count": 41,
   "id": "3c38953f-c1f9-4ab5-ba63-e26338ce8521",
   "metadata": {},
   "outputs": [],
   "source": [
    "driver.get(url)"
   ]
  },
  {
   "cell_type": "code",
   "execution_count": 42,
   "id": "8a00ace4-9826-4dbc-80f1-6d9907bcfa84",
   "metadata": {},
   "outputs": [],
   "source": [
    "soup=BeautifulSoup(driver.page_source,'html.parser')"
   ]
  },
  {
   "cell_type": "code",
   "execution_count": 43,
   "id": "1c36c369-b807-4f4c-a192-303ef6925e5e",
   "metadata": {},
   "outputs": [],
   "source": [
    "results=soup.find_all('div',{'data-component-type':'s-search-results'})"
   ]
  },
  {
   "cell_type": "code",
   "execution_count": 47,
   "id": "1e490c1a-d8d3-40a2-8491-7d36a50f7048",
   "metadata": {},
   "outputs": [
    {
     "data": {
      "text/plain": [
       "0"
      ]
     },
     "execution_count": 47,
     "metadata": {},
     "output_type": "execute_result"
    }
   ],
   "source": [
    "len(results)"
   ]
  },
  {
   "cell_type": "code",
   "execution_count": null,
   "id": "0c5ace69-998e-4610-8de7-01168f801d3f",
   "metadata": {},
   "outputs": [],
   "source": []
  }
 ],
 "metadata": {
  "kernelspec": {
   "display_name": "Python 3 (ipykernel)",
   "language": "python",
   "name": "python3"
  },
  "language_info": {
   "codemirror_mode": {
    "name": "ipython",
    "version": 3
   },
   "file_extension": ".py",
   "mimetype": "text/x-python",
   "name": "python",
   "nbconvert_exporter": "python",
   "pygments_lexer": "ipython3",
   "version": "3.13.1"
  }
 },
 "nbformat": 4,
 "nbformat_minor": 5
}
